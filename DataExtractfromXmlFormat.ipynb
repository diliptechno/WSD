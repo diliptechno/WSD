{
 "cells": [
  {
   "cell_type": "code",
   "execution_count": 1,
   "metadata": {},
   "outputs": [],
   "source": [
    "import sys\n",
    "import re\n",
    "from nltk.probability import FreqDist\n",
    "from nltk.tokenize import word_tokenize\n",
    "from nltk.tokenize import RegexpTokenizer\n",
    "from random import random\n",
    "import numpy as np\n",
    "import pandas as pd\n",
    "import csv\n",
    "from xml.dom import minidom\n",
    "import xml.etree.ElementTree as et\n",
    "import os"
   ]
  },
  {
   "cell_type": "code",
   "execution_count": 4,
   "metadata": {},
   "outputs": [],
   "source": [
    "train = open(\"line-train.xml\", \"r\")"
   ]
  },
  {
   "cell_type": "code",
   "execution_count": 6,
   "metadata": {},
   "outputs": [],
   "source": [
    "sense = []\n",
    "for line in train:\n",
    "    sense.append(line)"
   ]
  },
  {
   "cell_type": "code",
   "execution_count": 8,
   "metadata": {},
   "outputs": [],
   "source": [
    "str1 = ''.join(sense)"
   ]
  },
  {
   "cell_type": "code",
   "execution_count": 10,
   "metadata": {},
   "outputs": [],
   "source": [
    "str1\n",
    "#getting the instance id\n",
    "sense1 = []\n",
    "pattern = re.compile(r'senseid=\"(.*)\"')\n",
    "matches = pattern.finditer(str1)\n",
    "for match in matches:\n",
    "    sense1.append(match.group(1))"
   ]
  },
  {
   "cell_type": "code",
   "execution_count": 12,
   "metadata": {},
   "outputs": [],
   "source": [
    "#getting the ambiguous words\n",
    "sense2 = []\n",
    "pattern1 = re.compile(r'<head>(.*)</head>')\n",
    "matches1 = pattern1.finditer(str1)\n",
    "for match1 in matches1:\n",
    "    sense2.append(match1.group(1))"
   ]
  },
  {
   "cell_type": "code",
   "execution_count": 14,
   "metadata": {},
   "outputs": [],
   "source": [
    "feat = []\n",
    "pattern2 = re.compile(r'<head>(.*)</head>(.*)')\n",
    "matches2 = pattern2.finditer(str1)\n",
    "for match2 in matches2:\n",
    "    feat.append(match2.group(2))\n",
    "#feat= context part after the ambiguous word"
   ]
  },
  {
   "cell_type": "code",
   "execution_count": 18,
   "metadata": {},
   "outputs": [],
   "source": [
    "feat1 = []\n",
    "pattern3 = re.compile(r'(.*)<head>(.*)</head>')\n",
    "matches3 = pattern3.finditer(str1)\n",
    "for match3 in matches3:\n",
    "    feat1.append(match3.group(1))\n",
    "#feat1 = context part before the ambiguous word"
   ]
  },
  {
   "cell_type": "code",
   "execution_count": null,
   "metadata": {},
   "outputs": [],
   "source": [
    "x1 = []\n",
    "for line in feat1:\n",
    "    x = re.sub(r'(<s>|<\\/s>)','',line)\n",
    "    x = re.sub(r'(\\.)',' . ',x)\n",
    "    x1.append(re.sub(r'(<s>|<\\/s>)','',x))"
   ]
  }
