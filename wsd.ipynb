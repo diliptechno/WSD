{
 "cells": [
  {
   "cell_type": "code",
   "execution_count": 1,
   "metadata": {},
   "outputs": [],
   "source": [
    "import sys\n",
    "import re\n",
    "import nltk\n",
    "from nltk.probability import FreqDist\n",
    "from nltk.tokenize import word_tokenize\n",
    "from nltk.tokenize import RegexpTokenizer\n",
    "from random import random\n",
    "import numpy as np\n",
    "import pandas as pd\n",
    "import csv\n",
    "from xml.dom import minidom\n",
    "import xml.etree.ElementTree as et\n",
    "import os"
   ]
  },
  {
   "cell_type": "code",
   "execution_count": 2,
   "metadata": {},
   "outputs": [],
   "source": [
    "train = open(\"line-train.XML\", \"r\")"
   ]
  },
  {
   "cell_type": "code",
   "execution_count": 3,
   "metadata": {},
   "outputs": [],
   "source": [
    "sense = []\n",
    "for line in train:\n",
    "    sense.append(line)"
   ]
  },
  {
   "cell_type": "code",
   "execution_count": 4,
   "metadata": {},
   "outputs": [],
   "source": [
    "str1 = ''.join(sense).lower()\n",
    "sense1 = []\n",
    "pattern = re.compile(r'senseid=\"(.*)\"')\n",
    "matches = pattern.finditer(str1)\n",
    "for match in matches:\n",
    "    sense1.append(match.group(1))"
   ]
  },
  {
   "cell_type": "code",
   "execution_count": 5,
   "metadata": {},
   "outputs": [
    {
     "data": {
      "text/plain": [
       "FreqDist({'phone': 178, 'product': 196})"
      ]
     },
     "execution_count": 5,
     "metadata": {},
     "output_type": "execute_result"
    }
   ],
   "source": [
    "fdist_sense1 = FreqDist(sense1)\n",
    "fdist_sense1"
   ]
  },
  {
   "cell_type": "code",
   "execution_count": 6,
   "metadata": {},
   "outputs": [],
   "source": [
    "sense2 = []\n",
    "pattern1 = re.compile(r'<head>(.*)</head>')\n",
    "matches1 = pattern1.finditer(str1)\n",
    "for match1 in matches1:\n",
    "    sense2.append(match1.group(1))"
   ]
  },
  {
   "cell_type": "code",
   "execution_count": 7,
   "metadata": {},
   "outputs": [],
   "source": [
    "feat = []\n",
    "pattern2 = re.compile(r'<head>(.*)</head>(.*)')\n",
    "matches2 = pattern2.finditer(str1)\n",
    "for match2 in matches2:\n",
    "    feat.append(match2.group(2))"
   ]
  },
  {
   "cell_type": "code",
   "execution_count": 8,
   "metadata": {},
   "outputs": [],
   "source": [
    "x = []\n",
    "for line in feat:\n",
    "    x.append(re.sub(r'(<s>|<\\/s>)','',line))"
   ]
  },
  {
   "cell_type": "code",
   "execution_count": 9,
   "metadata": {},
   "outputs": [],
   "source": [
    "feat1 = []\n",
    "pattern3 = re.compile(r'(.*)<head>(.*)</head>')\n",
    "matches3 = pattern3.finditer(str1)\n",
    "for match3 in matches3:\n",
    "    feat1.append(match3.group(1))\n",
    "\n",
    "#feat1 the part before the head -- list"
   ]
  },
  {
   "cell_type": "code",
   "execution_count": 10,
   "metadata": {
    "scrolled": true
   },
   "outputs": [],
   "source": [
    "x1 = []\n",
    "for line in feat1:\n",
    "    x1.append(re.sub(r'(<s>|<\\/s>)','',line))\n",
    "#x1\n",
    "#after removing the <s> from feat1  "
   ]
  },
  {
   "cell_type": "code",
   "execution_count": 11,
   "metadata": {},
   "outputs": [],
   "source": [
    "# for line in feat1:\n",
    "#     pat = re.compile(r'(([^\\s>]+) [\\S]+ )$')\n",
    "#     mat = pat.search(line)\n",
    "#     x =mat.group(1)\n",
    "#     print(x)\n",
    "past2 = []\n",
    "for line in x1:\n",
    "    past2.append(line.split()[-10:])"
   ]
  },
  {
   "cell_type": "code",
   "execution_count": 12,
   "metadata": {},
   "outputs": [],
   "source": [
    "# type(past2[1])\n",
    "#past2\n",
    "# past2 - words before the head in the context"
   ]
  },
  {
   "cell_type": "code",
   "execution_count": null,
   "metadata": {},
   "outputs": [],
   "source": []
  },
  {
   "cell_type": "code",
   "execution_count": 13,
   "metadata": {},
   "outputs": [],
   "source": [
    "# str2 = ''.join(feat1)\n",
    "# past2 = []\n",
    "# pattern4 = re.compile(r'<\\/s><s>([^<]*)')\n",
    "# matches4 = pattern4.finditer(str2)\n",
    "# for match4 in matches4:\n",
    "#     past2.append(match4.group(1))\n",
    "fut2 = []\n",
    "for line in feat:\n",
    "    fut2.append(line.rstrip('</s>').split()[:10])"
   ]
  },
  {
   "cell_type": "code",
   "execution_count": 14,
   "metadata": {},
   "outputs": [],
   "source": [
    "df = pd.DataFrame(\n",
    "    {'sense': sense1,\n",
    "     'target_word': sense2\n",
    "    })\n"
   ]
  },
  {
   "cell_type": "code",
   "execution_count": 15,
   "metadata": {},
   "outputs": [],
   "source": [
    "\n",
    "#sense2- line/lines\n",
    "#sense1- actual sense "
   ]
  },
  {
   "cell_type": "code",
   "execution_count": 16,
   "metadata": {},
   "outputs": [],
   "source": [
    "combined = [x+y for x,y in zip(past2,fut2)]\n",
    "#combined"
   ]
  },
  {
   "cell_type": "code",
   "execution_count": null,
   "metadata": {},
   "outputs": [],
   "source": []
  },
  {
   "cell_type": "code",
   "execution_count": 17,
   "metadata": {},
   "outputs": [],
   "source": [
    "#combined \n",
    "#combining prev and after"
   ]
  },
  {
   "cell_type": "code",
   "execution_count": 18,
   "metadata": {},
   "outputs": [],
   "source": [
    "bof_phone = []\n",
    "bof_product = []\n",
    "\n",
    "for i in range(len(sense1)):\n",
    "    if(sense1[i]==\"phone\"):\n",
    "        bof_phone.append(combined[i])\n",
    "    else:\n",
    "        bof_product.append(combined[i])        "
   ]
  },
  {
   "cell_type": "code",
   "execution_count": 19,
   "metadata": {},
   "outputs": [],
   "source": [
    "#bof_phone"
   ]
  },
  {
   "cell_type": "code",
   "execution_count": 21,
   "metadata": {},
   "outputs": [],
   "source": [
    "temp =[]\n",
    "for item in bof_phone:\n",
    "    temp += item\n",
    "bof_phone = temp\n",
    "\n",
    "temp = []\n",
    "for item in bof_product:\n",
    "    temp += item\n",
    "bof_product = temp\n"
   ]
  },
  {
   "cell_type": "code",
   "execution_count": 23,
   "metadata": {},
   "outputs": [],
   "source": [
    "fdist_phone = FreqDist(bof_phone)\n",
    "fdist_product = FreqDist(bof_product)\n",
    "#fdist_phone"
   ]
  },
  {
   "cell_type": "code",
   "execution_count": 24,
   "metadata": {},
   "outputs": [],
   "source": [
    "#freq of total words\n",
    "total = bof_phone + bof_product\n",
    "fdist_total = FreqDist(total)\n",
    "#fdist_total"
   ]
  },
  {
   "cell_type": "code",
   "execution_count": 25,
   "metadata": {},
   "outputs": [],
   "source": [
    "#########################\n",
    "\n",
    "\n",
    "\n",
    "\n",
    "#testing\n",
    "\n",
    "\n",
    "\n",
    "\n",
    "\n",
    "##########################"
   ]
  },
  {
   "cell_type": "code",
   "execution_count": 26,
   "metadata": {},
   "outputs": [],
   "source": [
    "test = open(\"line-test.XML\", \"r\")\n",
    "#test"
   ]
  },
  {
   "cell_type": "code",
   "execution_count": 27,
   "metadata": {},
   "outputs": [],
   "source": [
    "t_sense = []\n",
    "for line in test:\n",
    "    t_sense.append(line)"
   ]
  },
  {
   "cell_type": "code",
   "execution_count": 28,
   "metadata": {},
   "outputs": [],
   "source": [
    "#t_sense"
   ]
  },
  {
   "cell_type": "code",
   "execution_count": 29,
   "metadata": {},
   "outputs": [],
   "source": [
    "str2 = ''.join(t_sense).lower()\n",
    "t_sense1 = []\n",
    "pattern = re.compile(r'instance id=\"(.*)\"')\n",
    "matches = pattern.finditer(str2)\n",
    "for match in matches:\n",
    "    t_sense1.append(match.group(1))"
   ]
  },
  {
   "cell_type": "code",
   "execution_count": 30,
   "metadata": {},
   "outputs": [
    {
     "data": {
      "text/plain": [
       "126"
      ]
     },
     "execution_count": 30,
     "metadata": {},
     "output_type": "execute_result"
    }
   ],
   "source": [
    "len(t_sense1)"
   ]
  },
  {
   "cell_type": "code",
   "execution_count": 31,
   "metadata": {},
   "outputs": [],
   "source": [
    "t_sense2 = []\n",
    "pattern = re.compile(r'<head>(.*)</head>')\n",
    "matches = pattern.finditer(str2)\n",
    "for match in matches:\n",
    "    t_sense2.append(match.group(1))"
   ]
  },
  {
   "cell_type": "code",
   "execution_count": 32,
   "metadata": {},
   "outputs": [],
   "source": [
    "#t_sense2"
   ]
  },
  {
   "cell_type": "code",
   "execution_count": 33,
   "metadata": {},
   "outputs": [],
   "source": [
    "t_feat = []\n",
    "pattern = re.compile(r'<head>(.*)</head>(.*)')\n",
    "matches = pattern.finditer(str2)\n",
    "for match in matches:\n",
    "    t_feat.append(match.group(2))"
   ]
  },
  {
   "cell_type": "code",
   "execution_count": 34,
   "metadata": {},
   "outputs": [],
   "source": [
    "#t_feat"
   ]
  },
  {
   "cell_type": "code",
   "execution_count": 35,
   "metadata": {},
   "outputs": [],
   "source": [
    "x = []\n",
    "for line in t_feat:\n",
    "    x.append(re.sub(r'(<s>|<\\/s>)','',line))"
   ]
  },
  {
   "cell_type": "code",
   "execution_count": 36,
   "metadata": {},
   "outputs": [],
   "source": [
    "t_feat1 = []\n",
    "pattern = re.compile(r'(.*)<head>(.*)</head>')\n",
    "matches = pattern.finditer(str2)\n",
    "for match in matches:\n",
    "    t_feat1.append(match.group(1))\n",
    "#t_feat1"
   ]
  },
  {
   "cell_type": "code",
   "execution_count": 37,
   "metadata": {},
   "outputs": [],
   "source": [
    "x1 = []\n",
    "for line in t_feat1:\n",
    "    x1.append(re.sub(r'(<s>|<\\/s>)','',line))\n",
    "#x1    "
   ]
  },
  {
   "cell_type": "code",
   "execution_count": 38,
   "metadata": {},
   "outputs": [],
   "source": [
    "t_past2 = []\n",
    "for line in x1:\n",
    "    t_past2.append(line.split()[-10:])"
   ]
  },
  {
   "cell_type": "code",
   "execution_count": 39,
   "metadata": {},
   "outputs": [],
   "source": [
    "#t_past2"
   ]
  },
  {
   "cell_type": "code",
   "execution_count": 40,
   "metadata": {},
   "outputs": [],
   "source": [
    "t_fut2 = []\n",
    "for line in x:\n",
    "    t_fut2.append(line.rstrip('</s>').split()[:10])"
   ]
  },
  {
   "cell_type": "code",
   "execution_count": 41,
   "metadata": {},
   "outputs": [],
   "source": [
    "#t_fut2"
   ]
  },
  {
   "cell_type": "code",
   "execution_count": 42,
   "metadata": {},
   "outputs": [],
   "source": [
    "t_combined = [x+y for x,y in zip(t_past2,t_fut2)]\n",
    "#t_combined"
   ]
  },
  {
   "cell_type": "code",
   "execution_count": 44,
   "metadata": {},
   "outputs": [],
   "source": [
    "#probabilities P(s)\n",
    "output = []\n",
    "temp = 0\n",
    "for j in range(len(t_combined)):\n",
    "    for i in range(len(t_combined[j])):\n",
    "        #sense phone\n",
    "        prob_phone = []\n",
    "        if t_combined[j][i] in total:\n",
    "            prob_word = fdist_phone[t_combined[j][i]]/fdist_total[t_combined[j][i]]\n",
    "            prob_feature = fdist_phone[t_combined[j][i]]/fdist_sense1[\"phone\"]\n",
    "            prob_phone.append(prob_word * prob_feature)\n",
    "        else:\n",
    "            prob_phone.append(fdist_sense1[\"phone\"]/len(sense1))\n",
    "            temp+=1\n",
    "\n",
    "        #sense product\n",
    "        prob_product = []\n",
    "        if t_combined[j][i] in total:\n",
    "            prob_word = fdist_product[t_combined[j][i]]/fdist_total[t_combined[j][i]]\n",
    "            prob_feature = fdist_product[t_combined[j][i]]/fdist_sense1[\"product\"]\n",
    "            prob_product.append(prob_word * prob_feature)\n",
    "        else:\n",
    "            prob_product.append(fdist_sense1[\"product\"]/len(sense1))\n",
    "            temp+=1\n",
    "        \n",
    "    final_phone = 1\n",
    "    final_product = 1\n",
    "    \n",
    "    for item in prob_phone:\n",
    "        final_phone = final_phone * item\n",
    "    for item in prob_product:\n",
    "        final_product = final_product * item\n",
    "    \n",
    "    if(final_phone>final_product):\n",
    "        output.append(\"phone\")\n",
    "    else:\n",
    "        output.append(\"product\")"
   ]
  },
  {
   "cell_type": "code",
   "execution_count": 45,
   "metadata": {},
   "outputs": [],
   "source": [
    "#temp"
   ]
  },
  {
   "cell_type": "code",
   "execution_count": 46,
   "metadata": {},
   "outputs": [],
   "source": [
    "answers = open(\"line-answers.txt\", \"r\")\n",
    "answers2 = []\n",
    "for line in answers:\n",
    "    answers2.append(line)\n",
    "#answers2    "
   ]
  },
  {
   "cell_type": "code",
   "execution_count": 47,
   "metadata": {},
   "outputs": [],
   "source": [
    "str3 = ''.join(answers2)\n",
    "sense_ans = []\n",
    "pattern = re.compile(r'senseid=\"(.*)\"')\n",
    "matches = pattern.finditer(str3)\n",
    "for match in matches:\n",
    "    sense_ans.append(match.group(1))"
   ]
  },
  {
   "cell_type": "code",
   "execution_count": 48,
   "metadata": {},
   "outputs": [
    {
     "data": {
      "text/plain": [
       "0.5158730158730159"
      ]
     },
     "execution_count": 48,
     "metadata": {},
     "output_type": "execute_result"
    }
   ],
   "source": [
    "#accuracy\n",
    "\n",
    "sum = 0\n",
    "for i in range(len(output)):\n",
    "    if(output[i]==sense_ans[i]):\n",
    "        sum+=1\n",
    "accuracy = sum/len(output)\n",
    "accuracy"
   ]
  },
  {
   "cell_type": "code",
   "execution_count": null,
   "metadata": {},
   "outputs": [],
   "source": [
    "#intial accuracy = 51.58%"
   ]
  }
 ],
 "metadata": {
  "kernelspec": {
   "display_name": "Python 3",
   "language": "python",
   "name": "python3"
  },
  "language_info": {
   "codemirror_mode": {
    "name": "ipython",
    "version": 3
   },
   "file_extension": ".py",
   "mimetype": "text/x-python",
   "name": "python",
   "nbconvert_exporter": "python",
   "pygments_lexer": "ipython3",
   "version": "3.6.4"
  }
 },
 "nbformat": 4,
 "nbformat_minor": 2
}
